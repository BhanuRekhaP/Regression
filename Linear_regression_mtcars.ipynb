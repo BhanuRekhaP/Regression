{
 "cells": [
  {
   "cell_type": "markdown",
   "metadata": {},
   "source": [
    "## Correlation and Regression\n",
    "Correlation and regression are the most commonly used techniques for investigating relationship between two quantitative variables.\n",
    "\n",
    "Strength of the relationship is quantified by Correlation Coefficient.\n",
    "\n",
    "Relationship in the form of an equation is expressed by the regression."
   ]
  },
  {
   "cell_type": "code",
   "execution_count": 1,
   "metadata": {},
   "outputs": [],
   "source": [
    "import statsmodels.api as sm\n",
    "cars = sm.datasets.get_rdataset('mtcars').data"
   ]
  },
  {
   "cell_type": "markdown",
   "metadata": {},
   "source": [
    "The dataset, mtcars is an in-built data set about cars which contains 32 observations and 11 variables."
   ]
  },
  {
   "attachments": {
    "image.png": {
     "image/png": "[encoded data removed]"
    }
   },
   "cell_type": "markdown",
   "metadata": {},
   "source": [
    "The data was extracted from the 1974 Motor Trend US magazine, and comprises fuel consumption and 10 aspects of automobile design and performance for 32 automobiles (1973–74 models).\n",
    "![image.png](attachment:image.png)"
   ]
  },
  {
   "cell_type": "code",
   "execution_count": 2,
   "metadata": {},
   "outputs": [
    {
     "data": {
      "text/html": [
       "<div>\n",
       "<style scoped>\n",
       "    .dataframe tbody tr th:only-of-type {\n",
       "        vertical-align: middle;\n",
       "    }\n",
       "\n",
       "    .dataframe tbody tr th {\n",
       "        vertical-align: top;\n",
       "    }\n",
       "\n",
       "    .dataframe thead th {\n",
       "        text-align: right;\n",
       "    }\n",
       "</style>\n",
       "<table border=\"1\" class=\"dataframe\">\n",
       "  <thead>\n",
       "    <tr style=\"text-align: right;\">\n",
       "      <th></th>\n",
       "      <th>mpg</th>\n",
       "      <th>cyl</th>\n",
       "      <th>disp</th>\n",
       "      <th>hp</th>\n",
       "      <th>drat</th>\n",
       "      <th>wt</th>\n",
       "      <th>qsec</th>\n",
       "      <th>vs</th>\n",
       "      <th>am</th>\n",
       "      <th>gear</th>\n",
       "      <th>carb</th>\n",
       "    </tr>\n",
       "  </thead>\n",
       "  <tbody>\n",
       "    <tr>\n",
       "      <th>Mazda RX4</th>\n",
       "      <td>21.0</td>\n",
       "      <td>6</td>\n",
       "      <td>160.0</td>\n",
       "      <td>110</td>\n",
       "      <td>3.90</td>\n",
       "      <td>2.620</td>\n",
       "      <td>16.46</td>\n",
       "      <td>0</td>\n",
       "      <td>1</td>\n",
       "      <td>4</td>\n",
       "      <td>4</td>\n",
       "    </tr>\n",
       "    <tr>\n",
       "      <th>Mazda RX4 Wag</th>\n",
       "      <td>21.0</td>\n",
       "      <td>6</td>\n",
       "      <td>160.0</td>\n",
       "      <td>110</td>\n",
       "      <td>3.90</td>\n",
       "      <td>2.875</td>\n",
       "      <td>17.02</td>\n",
       "      <td>0</td>\n",
       "      <td>1</td>\n",
       "      <td>4</td>\n",
       "      <td>4</td>\n",
       "    </tr>\n",
       "    <tr>\n",
       "      <th>Datsun 710</th>\n",
       "      <td>22.8</td>\n",
       "      <td>4</td>\n",
       "      <td>108.0</td>\n",
       "      <td>93</td>\n",
       "      <td>3.85</td>\n",
       "      <td>2.320</td>\n",
       "      <td>18.61</td>\n",
       "      <td>1</td>\n",
       "      <td>1</td>\n",
       "      <td>4</td>\n",
       "      <td>1</td>\n",
       "    </tr>\n",
       "    <tr>\n",
       "      <th>Hornet 4 Drive</th>\n",
       "      <td>21.4</td>\n",
       "      <td>6</td>\n",
       "      <td>258.0</td>\n",
       "      <td>110</td>\n",
       "      <td>3.08</td>\n",
       "      <td>3.215</td>\n",
       "      <td>19.44</td>\n",
       "      <td>1</td>\n",
       "      <td>0</td>\n",
       "      <td>3</td>\n",
       "      <td>1</td>\n",
       "    </tr>\n",
       "    <tr>\n",
       "      <th>Hornet Sportabout</th>\n",
       "      <td>18.7</td>\n",
       "      <td>8</td>\n",
       "      <td>360.0</td>\n",
       "      <td>175</td>\n",
       "      <td>3.15</td>\n",
       "      <td>3.440</td>\n",
       "      <td>17.02</td>\n",
       "      <td>0</td>\n",
       "      <td>0</td>\n",
       "      <td>3</td>\n",
       "      <td>2</td>\n",
       "    </tr>\n",
       "  </tbody>\n",
       "</table>\n",
       "</div>"
      ],
      "text/plain": [
       "                    mpg  cyl   disp   hp  drat     wt   qsec  vs  am  gear  \\\n",
       "Mazda RX4          21.0    6  160.0  110  3.90  2.620  16.46   0   1     4   \n",
       "Mazda RX4 Wag      21.0    6  160.0  110  3.90  2.875  17.02   0   1     4   \n",
       "Datsun 710         22.8    4  108.0   93  3.85  2.320  18.61   1   1     4   \n",
       "Hornet 4 Drive     21.4    6  258.0  110  3.08  3.215  19.44   1   0     3   \n",
       "Hornet Sportabout  18.7    8  360.0  175  3.15  3.440  17.02   0   0     3   \n",
       "\n",
       "                   carb  \n",
       "Mazda RX4             4  \n",
       "Mazda RX4 Wag         4  \n",
       "Datsun 710            1  \n",
       "Hornet 4 Drive        1  \n",
       "Hornet Sportabout     2  "
      ]
     },
     "execution_count": 2,
     "metadata": {},
     "output_type": "execute_result"
    }
   ],
   "source": [
    "cars.head()"
   ]
  },
  {
   "cell_type": "markdown",
   "metadata": {},
   "source": [
    "There are 6 continuous and 5 categorical features"
   ]
  },
  {
   "cell_type": "code",
   "execution_count": 3,
   "metadata": {},
   "outputs": [
    {
     "name": "stdout",
     "output_type": "stream",
     "text": [
      "<class 'pandas.core.frame.DataFrame'>\n",
      "Index: 32 entries, Mazda RX4 to Volvo 142E\n",
      "Data columns (total 11 columns):\n",
      "mpg     32 non-null float64\n",
      "cyl     32 non-null int64\n",
      "disp    32 non-null float64\n",
      "hp      32 non-null int64\n",
      "drat    32 non-null float64\n",
      "wt      32 non-null float64\n",
      "qsec    32 non-null float64\n",
      "vs      32 non-null int64\n",
      "am      32 non-null int64\n",
      "gear    32 non-null int64\n",
      "carb    32 non-null int64\n",
      "dtypes: float64(5), int64(6)\n",
      "memory usage: 3.0+ KB\n"
     ]
    }
   ],
   "source": [
    "cars.info()"
   ]
  },
  {
   "cell_type": "code",
   "execution_count": 4,
   "metadata": {},
   "outputs": [
    {
     "data": {
      "text/html": [
       "<div>\n",
       "<style scoped>\n",
       "    .dataframe tbody tr th:only-of-type {\n",
       "        vertical-align: middle;\n",
       "    }\n",
       "\n",
       "    .dataframe tbody tr th {\n",
       "        vertical-align: top;\n",
       "    }\n",
       "\n",
       "    .dataframe thead th {\n",
       "        text-align: right;\n",
       "    }\n",
       "</style>\n",
       "<table border=\"1\" class=\"dataframe\">\n",
       "  <thead>\n",
       "    <tr style=\"text-align: right;\">\n",
       "      <th></th>\n",
       "      <th>count</th>\n",
       "      <th>mean</th>\n",
       "      <th>std</th>\n",
       "      <th>min</th>\n",
       "      <th>25%</th>\n",
       "      <th>50%</th>\n",
       "      <th>75%</th>\n",
       "      <th>max</th>\n",
       "    </tr>\n",
       "  </thead>\n",
       "  <tbody>\n",
       "    <tr>\n",
       "      <th>mpg</th>\n",
       "      <td>32.0</td>\n",
       "      <td>20.090625</td>\n",
       "      <td>6.026948</td>\n",
       "      <td>10.400</td>\n",
       "      <td>15.42500</td>\n",
       "      <td>19.200</td>\n",
       "      <td>22.80</td>\n",
       "      <td>33.900</td>\n",
       "    </tr>\n",
       "    <tr>\n",
       "      <th>cyl</th>\n",
       "      <td>32.0</td>\n",
       "      <td>6.187500</td>\n",
       "      <td>1.785922</td>\n",
       "      <td>4.000</td>\n",
       "      <td>4.00000</td>\n",
       "      <td>6.000</td>\n",
       "      <td>8.00</td>\n",
       "      <td>8.000</td>\n",
       "    </tr>\n",
       "    <tr>\n",
       "      <th>disp</th>\n",
       "      <td>32.0</td>\n",
       "      <td>230.721875</td>\n",
       "      <td>123.938694</td>\n",
       "      <td>71.100</td>\n",
       "      <td>120.82500</td>\n",
       "      <td>196.300</td>\n",
       "      <td>326.00</td>\n",
       "      <td>472.000</td>\n",
       "    </tr>\n",
       "    <tr>\n",
       "      <th>hp</th>\n",
       "      <td>32.0</td>\n",
       "      <td>146.687500</td>\n",
       "      <td>68.562868</td>\n",
       "      <td>52.000</td>\n",
       "      <td>96.50000</td>\n",
       "      <td>123.000</td>\n",
       "      <td>180.00</td>\n",
       "      <td>335.000</td>\n",
       "    </tr>\n",
       "    <tr>\n",
       "      <th>drat</th>\n",
       "      <td>32.0</td>\n",
       "      <td>3.596563</td>\n",
       "      <td>0.534679</td>\n",
       "      <td>2.760</td>\n",
       "      <td>3.08000</td>\n",
       "      <td>3.695</td>\n",
       "      <td>3.92</td>\n",
       "      <td>4.930</td>\n",
       "    </tr>\n",
       "    <tr>\n",
       "      <th>wt</th>\n",
       "      <td>32.0</td>\n",
       "      <td>3.217250</td>\n",
       "      <td>0.978457</td>\n",
       "      <td>1.513</td>\n",
       "      <td>2.58125</td>\n",
       "      <td>3.325</td>\n",
       "      <td>3.61</td>\n",
       "      <td>5.424</td>\n",
       "    </tr>\n",
       "    <tr>\n",
       "      <th>qsec</th>\n",
       "      <td>32.0</td>\n",
       "      <td>17.848750</td>\n",
       "      <td>1.786943</td>\n",
       "      <td>14.500</td>\n",
       "      <td>16.89250</td>\n",
       "      <td>17.710</td>\n",
       "      <td>18.90</td>\n",
       "      <td>22.900</td>\n",
       "    </tr>\n",
       "    <tr>\n",
       "      <th>vs</th>\n",
       "      <td>32.0</td>\n",
       "      <td>0.437500</td>\n",
       "      <td>0.504016</td>\n",
       "      <td>0.000</td>\n",
       "      <td>0.00000</td>\n",
       "      <td>0.000</td>\n",
       "      <td>1.00</td>\n",
       "      <td>1.000</td>\n",
       "    </tr>\n",
       "    <tr>\n",
       "      <th>am</th>\n",
       "      <td>32.0</td>\n",
       "      <td>0.406250</td>\n",
       "      <td>0.498991</td>\n",
       "      <td>0.000</td>\n",
       "      <td>0.00000</td>\n",
       "      <td>0.000</td>\n",
       "      <td>1.00</td>\n",
       "      <td>1.000</td>\n",
       "    </tr>\n",
       "    <tr>\n",
       "      <th>gear</th>\n",
       "      <td>32.0</td>\n",
       "      <td>3.687500</td>\n",
       "      <td>0.737804</td>\n",
       "      <td>3.000</td>\n",
       "      <td>3.00000</td>\n",
       "      <td>4.000</td>\n",
       "      <td>4.00</td>\n",
       "      <td>5.000</td>\n",
       "    </tr>\n",
       "    <tr>\n",
       "      <th>carb</th>\n",
       "      <td>32.0</td>\n",
       "      <td>2.812500</td>\n",
       "      <td>1.615200</td>\n",
       "      <td>1.000</td>\n",
       "      <td>2.00000</td>\n",
       "      <td>2.000</td>\n",
       "      <td>4.00</td>\n",
       "      <td>8.000</td>\n",
       "    </tr>\n",
       "  </tbody>\n",
       "</table>\n",
       "</div>"
      ],
      "text/plain": [
       "      count        mean         std     min        25%      50%     75%  \\\n",
       "mpg    32.0   20.090625    6.026948  10.400   15.42500   19.200   22.80   \n",
       "cyl    32.0    6.187500    1.785922   4.000    4.00000    6.000    8.00   \n",
       "disp   32.0  230.721875  123.938694  71.100  120.82500  196.300  326.00   \n",
       "hp     32.0  146.687500   68.562868  52.000   96.50000  123.000  180.00   \n",
       "drat   32.0    3.596563    0.534679   2.760    3.08000    3.695    3.92   \n",
       "wt     32.0    3.217250    0.978457   1.513    2.58125    3.325    3.61   \n",
       "qsec   32.0   17.848750    1.786943  14.500   16.89250   17.710   18.90   \n",
       "vs     32.0    0.437500    0.504016   0.000    0.00000    0.000    1.00   \n",
       "am     32.0    0.406250    0.498991   0.000    0.00000    0.000    1.00   \n",
       "gear   32.0    3.687500    0.737804   3.000    3.00000    4.000    4.00   \n",
       "carb   32.0    2.812500    1.615200   1.000    2.00000    2.000    4.00   \n",
       "\n",
       "          max  \n",
       "mpg    33.900  \n",
       "cyl     8.000  \n",
       "disp  472.000  \n",
       "hp    335.000  \n",
       "drat    4.930  \n",
       "wt      5.424  \n",
       "qsec   22.900  \n",
       "vs      1.000  \n",
       "am      1.000  \n",
       "gear    5.000  \n",
       "carb    8.000  "
      ]
     },
     "execution_count": 4,
     "metadata": {},
     "output_type": "execute_result"
    }
   ],
   "source": [
    "cars.describe().T"
   ]
  },
  {
   "cell_type": "code",
   "execution_count": 5,
   "metadata": {},
   "outputs": [],
   "source": [
    "#inportant libraries\n",
    "import pandas            as pd\n",
    "import numpy             as np\n",
    "import matplotlib.pyplot as plt\n",
    "import seaborn           as sns\n",
    "import statsmodels.api   as sm"
   ]
  },
  {
   "cell_type": "markdown",
   "metadata": {},
   "source": [
    "# Assumptions of Linear Regression"
   ]
  },
  {
   "attachments": {},
   "cell_type": "markdown",
   "metadata": {},
   "source": [
    "### 1. Linear relationship between X and Y.\n",
    "\t If you fit a linear model to a non-linear, non-additive data set, the regression algorithm would fail to capture the trend mathematically, thus resulting in an inefficient model. Also, this will result in erroneous predictions on an unseen data set.\n",
    "\tTest: Look for residual vs fitted value plots (explained below). Also, you can include polynomial terms (X, X², X³) in your model to capture the non-linear effect. Can also test by plotting a simple scatter plot between X and Y.\n"
   ]
  },
  {
   "cell_type": "markdown",
   "metadata": {},
   "source": [
    "Scatter plot between X and Y also explains the Linear relationship"
   ]
  },
  {
   "cell_type": "code",
   "execution_count": 6,
   "metadata": {},
   "outputs": [
    {
     "data": {
      "image/png": "[encoded data removed]",
      "text/plain": [
       "<Figure size 432x288 with 1 Axes>"
      ]
     },
     "metadata": {
      "needs_background": "light"
     },
     "output_type": "display_data"
    }
   ],
   "source": [
    "corcoef = np.corrcoef(cars.mpg, cars.wt)[0,1]\n",
    "text_cc = '\\n\\n\\n\\ncorrelation coefficient is %1.4f'%corcoef\n",
    "plt.title('Scatter plot MPG Vs Weight')\n",
    "plt.suptitle(text_cc)\n",
    "\n",
    "sns.regplot(x=cars.mpg, y=cars.wt, ci = 95)\n",
    "plt.show()"
   ]
  },
  {
   "cell_type": "markdown",
   "metadata": {},
   "source": [
    "## 2. No Autocorrelation in errors:\n",
    "\tThe presence of correlation in error terms drastically reduces model’s accuracy. This usually occurs in time series models where the next instant is dependent on previous instant. If the error terms are correlated, the estimated standard errors tend to underestimate the true standard error.\n",
    "\tTest: Look for Durbin – Watson (DW) statistic. It must lie between 0 and 4. If DW = 2, implies no autocorrelation, 0 < DW < 2 implies positive autocorrelation while 2 < DW < 4 indicates negative autocorrelation. Also, you can see residual vs time plot and look for the seasonal or correlated pattern in residual values.\n"
   ]
  },
  {
   "cell_type": "markdown",
   "metadata": {},
   "source": [
    "Durbin – Watson (DW) statistic from Linear Regression in Statsmodels"
   ]
  },
  {
   "cell_type": "code",
   "execution_count": 23,
   "metadata": {},
   "outputs": [
    {
     "name": "stdout",
     "output_type": "stream",
     "text": [
      "                            OLS Regression Results                            \n",
      "==============================================================================\n",
      "Dep. Variable:                    mpg   R-squared:                       0.753\n",
      "Model:                            OLS   Adj. R-squared:                  0.745\n",
      "Method:                 Least Squares   F-statistic:                     91.38\n",
      "Date:                Fri, 02 Aug 2019   Prob (F-statistic):           1.29e-10\n",
      "Time:                        18:23:15   Log-Likelihood:                -80.015\n",
      "No. Observations:                  32   AIC:                             164.0\n",
      "Df Residuals:                      30   BIC:                             167.0\n",
      "Df Model:                           1                                         \n",
      "Covariance Type:            nonrobust                                         \n",
      "==============================================================================\n",
      "                 coef    std err          t      P>|t|      [0.025      0.975]\n",
      "------------------------------------------------------------------------------\n",
      "const         37.2851      1.878     19.858      0.000      33.450      41.120\n",
      "wt            -5.3445      0.559     -9.559      0.000      -6.486      -4.203\n",
      "==============================================================================\n",
      "Omnibus:                        2.988   Durbin-Watson:                   1.252\n",
      "Prob(Omnibus):                  0.225   Jarque-Bera (JB):                2.399\n",
      "Skew:                           0.668   Prob(JB):                        0.301\n",
      "Kurtosis:                       2.877   Cond. No.                         12.7\n",
      "==============================================================================\n",
      "\n",
      "Warnings:\n",
      "[1] Standard Errors assume that the covariance matrix of the errors is correctly specified.\n"
     ]
    }
   ],
   "source": [
    "import statsmodels.api as sm\n",
    "X  =  cars.wt\n",
    "y  =  cars.mpg\n",
    "\n",
    "X = sm.add_constant(X) # Add an intercept to our model\n",
    "\n",
    "model         = sm.OLS(y, X).fit() ## OLS(output, input)\n",
    "predictions   = model.predict(X)\n",
    "\n",
    "## Print the statistics\n",
    "print(model.summary())"
   ]
  },
  {
   "attachments": {},
   "cell_type": "markdown",
   "metadata": {},
   "source": [
    "## 3. Homoskedasticity:\n",
    "\tThe presence of non-constant variance in the error terms results in heteroskedasticity. Generally, non-constant variance arises in presence of outliers or extreme leverage values. Look like, these values get too much weight, thereby disproportionately influences the model’s performance. When this phenomenon occurs, the confidence interval for out of sample prediction tends to be unrealistically wide or narrow.\n",
    "\tTEST: You can look at residual vs fitted values plot. If heteroskedasticity exists, the plot would exhibit a funnel shape pattern (shown in next section). Also, you can use Breusch-Pagan / Cook – Weisberg test or White general test to detect this phenomenon."
   ]
  },
  {
   "cell_type": "markdown",
   "metadata": {},
   "source": [
    "Residual plots\n",
    "\n",
    "Residual plot is a scatter plot of fitted values against the residuals, with a locally weighted scatterplot smoothing (lowess) regression line showing any apparent trend.\n",
    "Using seaborn, residplot() with fitted values as x parameter, and the dependent variable as y. The argument, lowless = True makes sure the lowess regression line is drawn.\n",
    "\n",
    "Lowess stands for Locally wighted least sqaures.\n",
    "Lowess is a data analysis technique for producing a Smooth set of values from a scatter plot with a noisy* relationship between the two variables."
   ]
  },
  {
   "cell_type": "code",
   "execution_count": 8,
   "metadata": {},
   "outputs": [],
   "source": [
    "sns.set(style=\"whitegrid\")\n",
    "import statsmodels.api as sm\n",
    "X  =  cars.wt\n",
    "y  =  cars.mpg\n",
    "\n",
    "X = sm.add_constant(X) # Add an intercept to our model\n",
    "\n",
    "model                 = sm.OLS(y, X).fit() ## OLS(output, input)\n",
    "cars['predictions']   = model.predict(X)\n",
    "residuals             = model.resid"
   ]
  },
  {
   "cell_type": "code",
   "execution_count": 9,
   "metadata": {},
   "outputs": [
    {
     "data": {
      "image/png": "[encoded data removed]",
      "text/plain": [
       "<Figure size 432x288 with 1 Axes>"
      ]
     },
     "metadata": {},
     "output_type": "display_data"
    }
   ],
   "source": [
    "\n",
    "# Plot the residuals after fitting a linear model\n",
    "ax = sns.residplot(cars.predictions, residuals, lowess = True, color = \"g\")\n",
    "ax.set(xlabel='Fitted Value', ylabel='Residuals', title = 'Residual Vs Fitted values PLOT \\n')\n",
    "plt.show()"
   ]
  },
  {
   "attachments": {},
   "cell_type": "markdown",
   "metadata": {},
   "source": [
    "# 4.Normal Distribution of error terms:\n",
    "If the error terms are non- normally distributed, confidence intervals may become too wide or narrow. Once confidence interval becomes unstable, it leads to difficulty in estimating coefficients based on minimization of least squares. Presence of non – normal distribution suggests that there are a few unusual data points which must be studied closely to make a better model.\n",
    "How to check: You can look at QQ plot (shown below). You can also perform statistical tests of normality such as Kolmogorov-Smirnov test, Shapiro-Wilk test."
   ]
  },
  {
   "cell_type": "markdown",
   "metadata": {},
   "source": [
    "Draw a histogram of the residuals"
   ]
  },
  {
   "cell_type": "code",
   "execution_count": 10,
   "metadata": {},
   "outputs": [
    {
     "data": {
      "image/png": "[encoded data removed]",
      "text/plain": [
       "<Figure size 432x288 with 1 Axes>"
      ]
     },
     "metadata": {},
     "output_type": "display_data"
    }
   ],
   "source": [
    "sns.set(style=\"whitegrid\")\n",
    "sns.distplot(residuals)\n",
    "\n",
    "plt.grid(axis = 'y', alpha = 0.75)\n",
    "plt.xlabel('Residuals Value')\n",
    "plt.ylabel('Probability density') # It is the probability per unit on the x-axis.\n",
    "\n",
    "mean     =   residuals.mean()\n",
    "\n",
    "plt.title('Histogram of residuals and KDE plot with ' + r'$\\mu = $' + str(np.round(mean,17)))\n",
    "plt.show()"
   ]
  },
  {
   "cell_type": "markdown",
   "metadata": {},
   "source": [
    "Ideal Plot\n",
    "\n",
    "We expect the random errors to produce residuals that are normally distributed. So, the residuals should fall in a symmetrical pattern and have a constant spread throughout the range."
   ]
  },
  {
   "cell_type": "markdown",
   "metadata": {},
   "source": [
    "Q Q PLOT"
   ]
  },
  {
   "cell_type": "code",
   "execution_count": 11,
   "metadata": {},
   "outputs": [
    {
     "data": {
      "image/png": "[encoded data removed]",
      "text/plain": [
       "<Figure size 432x288 with 1 Axes>"
      ]
     },
     "metadata": {},
     "output_type": "display_data"
    }
   ],
   "source": [
    "fig = sm.qqplot(residuals)\n",
    "plt.show()"
   ]
  },
  {
   "cell_type": "markdown",
   "metadata": {},
   "source": [
    "There are many deviations from the straight line and hence the residuals do not fit the normal distribution."
   ]
  },
  {
   "cell_type": "markdown",
   "metadata": {},
   "source": [
    "# 5. No or little Multicollinearity:\n",
    "\tThis phenomenon exists when the independent variables are found to be moderately or highly correlated. In a model with correlated variables, it becomes a tough task to figure out the true relationship of a predictors with response variable. In other words, it becomes difficult to find out which variable is actually contributing to predict the response variable.\n",
    "\tTest: You can use scatter plot to visualize correlation effect among variables. Also, you can also use VIF factor. VIF value <= 4 suggests no multicollinearity whereas a value of >= 10 implies serious multicollinearity. Above all, a correlation table should also solve the purpose.\n"
   ]
  },
  {
   "cell_type": "code",
   "execution_count": 12,
   "metadata": {},
   "outputs": [
    {
     "data": {
      "text/plain": [
       "Index(['mpg', 'cyl', 'disp', 'hp', 'drat', 'wt', 'qsec', 'vs', 'am', 'gear',\n",
       "       'carb', 'predictions'],\n",
       "      dtype='object')"
      ]
     },
     "execution_count": 12,
     "metadata": {},
     "output_type": "execute_result"
    }
   ],
   "source": [
    "cars.columns"
   ]
  },
  {
   "cell_type": "code",
   "execution_count": 13,
   "metadata": {},
   "outputs": [],
   "source": [
    "X    = cars[['cyl', 'disp', 'hp', 'drat', 'wt', 'qsec', 'vs', 'am', 'gear','carb', 'predictions']]\n",
    "y    = cars.mpg"
   ]
  },
  {
   "cell_type": "code",
   "execution_count": 14,
   "metadata": {},
   "outputs": [
    {
     "data": {
      "text/plain": [
       "[21.620241028958883,\n",
       " 9.832036844359056,\n",
       " 3.374620008314751,\n",
       " 600.7992116523823,\n",
       " 7.527958225291088,\n",
       " 4.965873466484715,\n",
       " 4.64848745550016,\n",
       " 5.35745210594066,\n",
       " 7.908746751184423,\n",
       " 493.89002054083]"
      ]
     },
     "execution_count": 14,
     "metadata": {},
     "output_type": "execute_result"
    }
   ],
   "source": [
    "from statsmodels.stats.outliers_influence import variance_inflation_factor\n",
    "\n",
    "[variance_inflation_factor(X.values, j) for j in range(1, X.shape[1])]"
   ]
  },
  {
   "cell_type": "code",
   "execution_count": 15,
   "metadata": {},
   "outputs": [],
   "source": [
    "def calculate_vif(x):\n",
    "    thresh = 100.0 #set threshold here\n",
    "    output = pd.DataFrame()\n",
    "    k = x.shape[1]\n",
    "    vif = [variance_inflation_factor(x.values, j) for j in range(x.shape[1])]\n",
    "    for i in range(1,k):\n",
    "        print(\"Iteration no.\")\n",
    "        print(i)\n",
    "        print(vif)\n",
    "        a = np.argmax(vif)\n",
    "#         print(\"Max VIF is for variable no.:\")\n",
    "#         print(a)\n",
    "        if vif[a] <= thresh :\n",
    "            break\n",
    "        if i == 1 :          \n",
    "            output = x.drop(x.columns[a], axis = 1)\n",
    "            vif = [variance_inflation_factor(output.values, j) for j in range(output.shape[1])]\n",
    "        elif i > 1 :\n",
    "            output = output.drop(output.columns[a],axis = 1)\n",
    "            vif = [variance_inflation_factor(output.values, j) for j in range(output.shape[1])]\n",
    "    return(output)"
   ]
  },
  {
   "cell_type": "code",
   "execution_count": 16,
   "metadata": {},
   "outputs": [
    {
     "name": "stdout",
     "output_type": "stream",
     "text": [
      "Iteration no.\n",
      "1\n",
      "[15.37383340344222, 21.620241028958883, 9.832036844359056, 3.374620008314751, 600.7992116523823, 7.527958225291088, 4.965873466484715, 4.64848745550016, 5.35745210594066, 7.908746751184423, 493.89002054083]\n",
      "Iteration no.\n",
      "2\n",
      "[161.24957151586207, 79.7936762723757, 55.90979584380463, 151.83879228339754, 168.5253032414237, 8.701933811039817, 7.69910046202631, 136.65695922921157, 29.854237846130765, 150.3933658552862]\n",
      "Iteration no.\n",
      "3\n",
      "[143.09083769484525, 74.78539509614977, 47.343829764127904, 128.97032567439908, 5.945938211771066, 6.770270714462535, 128.22169888854995, 29.84213648804049, 148.01584392642965]\n",
      "Iteration no.\n",
      "4\n",
      "[79.04656261750543, 38.00591649823236, 45.21008393347017, 95.37191313519288, 5.883748623010366, 6.511860296158713, 100.39773737123402, 15.485348655171377]\n",
      "Iteration no.\n",
      "5\n",
      "[77.7369646371158, 37.78801631145948, 44.89371954354733, 54.87258386660498, 5.4288647677534625, 5.230633425049231, 13.768474487262548]\n"
     ]
    }
   ],
   "source": [
    "train_out = calculate_vif(X)"
   ]
  },
  {
   "cell_type": "code",
   "execution_count": 17,
   "metadata": {},
   "outputs": [
    {
     "data": {
      "text/html": [
       "<div>\n",
       "<style scoped>\n",
       "    .dataframe tbody tr th:only-of-type {\n",
       "        vertical-align: middle;\n",
       "    }\n",
       "\n",
       "    .dataframe tbody tr th {\n",
       "        vertical-align: top;\n",
       "    }\n",
       "\n",
       "    .dataframe thead th {\n",
       "        text-align: right;\n",
       "    }\n",
       "</style>\n",
       "<table border=\"1\" class=\"dataframe\">\n",
       "  <thead>\n",
       "    <tr style=\"text-align: right;\">\n",
       "      <th></th>\n",
       "      <th>cyl</th>\n",
       "      <th>disp</th>\n",
       "      <th>hp</th>\n",
       "      <th>drat</th>\n",
       "      <th>vs</th>\n",
       "      <th>am</th>\n",
       "      <th>carb</th>\n",
       "    </tr>\n",
       "  </thead>\n",
       "  <tbody>\n",
       "    <tr>\n",
       "      <th>Mazda RX4</th>\n",
       "      <td>6</td>\n",
       "      <td>160.0</td>\n",
       "      <td>110</td>\n",
       "      <td>3.90</td>\n",
       "      <td>0</td>\n",
       "      <td>1</td>\n",
       "      <td>4</td>\n",
       "    </tr>\n",
       "    <tr>\n",
       "      <th>Mazda RX4 Wag</th>\n",
       "      <td>6</td>\n",
       "      <td>160.0</td>\n",
       "      <td>110</td>\n",
       "      <td>3.90</td>\n",
       "      <td>0</td>\n",
       "      <td>1</td>\n",
       "      <td>4</td>\n",
       "    </tr>\n",
       "    <tr>\n",
       "      <th>Datsun 710</th>\n",
       "      <td>4</td>\n",
       "      <td>108.0</td>\n",
       "      <td>93</td>\n",
       "      <td>3.85</td>\n",
       "      <td>1</td>\n",
       "      <td>1</td>\n",
       "      <td>1</td>\n",
       "    </tr>\n",
       "    <tr>\n",
       "      <th>Hornet 4 Drive</th>\n",
       "      <td>6</td>\n",
       "      <td>258.0</td>\n",
       "      <td>110</td>\n",
       "      <td>3.08</td>\n",
       "      <td>1</td>\n",
       "      <td>0</td>\n",
       "      <td>1</td>\n",
       "    </tr>\n",
       "    <tr>\n",
       "      <th>Hornet Sportabout</th>\n",
       "      <td>8</td>\n",
       "      <td>360.0</td>\n",
       "      <td>175</td>\n",
       "      <td>3.15</td>\n",
       "      <td>0</td>\n",
       "      <td>0</td>\n",
       "      <td>2</td>\n",
       "    </tr>\n",
       "  </tbody>\n",
       "</table>\n",
       "</div>"
      ],
      "text/plain": [
       "                   cyl   disp   hp  drat  vs  am  carb\n",
       "Mazda RX4            6  160.0  110  3.90   0   1     4\n",
       "Mazda RX4 Wag        6  160.0  110  3.90   0   1     4\n",
       "Datsun 710           4  108.0   93  3.85   1   1     1\n",
       "Hornet 4 Drive       6  258.0  110  3.08   1   0     1\n",
       "Hornet Sportabout    8  360.0  175  3.15   0   0     2"
      ]
     },
     "execution_count": 17,
     "metadata": {},
     "output_type": "execute_result"
    }
   ],
   "source": [
    "train_out.head()"
   ]
  },
  {
   "cell_type": "markdown",
   "metadata": {},
   "source": [
    "Inference\n",
    "\n",
    "We don't see any variable having VIF more than the threshold. Hence there is no multi-collinearity."
   ]
  },
  {
   "cell_type": "markdown",
   "metadata": {},
   "source": [
    "Heat map shows the correlation among the features"
   ]
  },
  {
   "cell_type": "code",
   "execution_count": 18,
   "metadata": {},
   "outputs": [
    {
     "data": {
      "image/png": "[encoded data removed]",
      "text/plain": [
       "<Figure size 720x720 with 2 Axes>"
      ]
     },
     "metadata": {},
     "output_type": "display_data"
    }
   ],
   "source": [
    "plt.figure(figsize=(10,10))\n",
    "sns.heatmap(cars.corr(), cmap='BuGn')\n",
    "plt.show()"
   ]
  },
  {
   "cell_type": "markdown",
   "metadata": {},
   "source": [
    "# Predictions and Scores"
   ]
  },
  {
   "cell_type": "code",
   "execution_count": 19,
   "metadata": {},
   "outputs": [],
   "source": [
    "import statsmodels.api as sm\n",
    "X  =  cars.wt\n",
    "y  =  cars.mpg\n",
    "\n",
    "X = sm.add_constant(X) # Add an intercept to our model\n",
    "\n",
    "model         = sm.OLS(y, X).fit() ## OLS(output, input)\n",
    "predictions   = model.predict(X)\n"
   ]
  },
  {
   "cell_type": "markdown",
   "metadata": {},
   "source": [
    "RSquared from scratch"
   ]
  },
  {
   "cell_type": "code",
   "execution_count": 20,
   "metadata": {},
   "outputs": [
    {
     "name": "stdout",
     "output_type": "stream",
     "text": [
      "SSE = 278.3219 SST = 1126.0472\n",
      "Calculated R squared = 0.753\n"
     ]
    }
   ],
   "source": [
    "# calculate SSE, SSM & SST\n",
    "\n",
    "SSE   = 0\n",
    "SST   = 0\n",
    "\n",
    "for i in range(len(predictions)):\n",
    "    SSE    += (predictions[i] - y[i])**2\n",
    "\n",
    "yMean       = np.mean(y)\n",
    "\n",
    "for i in range(len(predictions)):\n",
    "    SST    += (y[i] - yMean)**2\n",
    "\n",
    "print('SSE = %5.4f SST = %5.4f' % (SSE, SST))\n",
    "\n",
    "Rsq = np.round(1 - (SSE / SST),4)\n",
    "\n",
    "print(\"Calculated %s = %1.3f\" % (\"R squared\",Rsq) )"
   ]
  },
  {
   "cell_type": "code",
   "execution_count": 21,
   "metadata": {},
   "outputs": [
    {
     "data": {
      "text/html": [
       "<table class=\"simpletable\">\n",
       "<caption>OLS Regression Results</caption>\n",
       "<tr>\n",
       "  <th>Dep. Variable:</th>           <td>mpg</td>       <th>  R-squared:         </th> <td>   0.753</td>\n",
       "</tr>\n",
       "<tr>\n",
       "  <th>Model:</th>                   <td>OLS</td>       <th>  Adj. R-squared:    </th> <td>   0.745</td>\n",
       "</tr>\n",
       "<tr>\n",
       "  <th>Method:</th>             <td>Least Squares</td>  <th>  F-statistic:       </th> <td>   91.38</td>\n",
       "</tr>\n",
       "<tr>\n",
       "  <th>Date:</th>             <td>Fri, 02 Aug 2019</td> <th>  Prob (F-statistic):</th> <td>1.29e-10</td>\n",
       "</tr>\n",
       "<tr>\n",
       "  <th>Time:</th>                 <td>18:22:41</td>     <th>  Log-Likelihood:    </th> <td> -80.015</td>\n",
       "</tr>\n",
       "<tr>\n",
       "  <th>No. Observations:</th>      <td>    32</td>      <th>  AIC:               </th> <td>   164.0</td>\n",
       "</tr>\n",
       "<tr>\n",
       "  <th>Df Residuals:</th>          <td>    30</td>      <th>  BIC:               </th> <td>   167.0</td>\n",
       "</tr>\n",
       "<tr>\n",
       "  <th>Df Model:</th>              <td>     1</td>      <th>                     </th>     <td> </td>   \n",
       "</tr>\n",
       "<tr>\n",
       "  <th>Covariance Type:</th>      <td>nonrobust</td>    <th>                     </th>     <td> </td>   \n",
       "</tr>\n",
       "</table>\n",
       "<table class=\"simpletable\">\n",
       "<tr>\n",
       "    <td></td>       <th>coef</th>     <th>std err</th>      <th>t</th>      <th>P>|t|</th>  <th>[0.025</th>    <th>0.975]</th>  \n",
       "</tr>\n",
       "<tr>\n",
       "  <th>const</th> <td>   37.2851</td> <td>    1.878</td> <td>   19.858</td> <td> 0.000</td> <td>   33.450</td> <td>   41.120</td>\n",
       "</tr>\n",
       "<tr>\n",
       "  <th>wt</th>    <td>   -5.3445</td> <td>    0.559</td> <td>   -9.559</td> <td> 0.000</td> <td>   -6.486</td> <td>   -4.203</td>\n",
       "</tr>\n",
       "</table>\n",
       "<table class=\"simpletable\">\n",
       "<tr>\n",
       "  <th>Omnibus:</th>       <td> 2.988</td> <th>  Durbin-Watson:     </th> <td>   1.252</td>\n",
       "</tr>\n",
       "<tr>\n",
       "  <th>Prob(Omnibus):</th> <td> 0.225</td> <th>  Jarque-Bera (JB):  </th> <td>   2.399</td>\n",
       "</tr>\n",
       "<tr>\n",
       "  <th>Skew:</th>          <td> 0.668</td> <th>  Prob(JB):          </th> <td>   0.301</td>\n",
       "</tr>\n",
       "<tr>\n",
       "  <th>Kurtosis:</th>      <td> 2.877</td> <th>  Cond. No.          </th> <td>    12.7</td>\n",
       "</tr>\n",
       "</table><br/><br/>Warnings:<br/>[1] Standard Errors assume that the covariance matrix of the errors is correctly specified."
      ],
      "text/plain": [
       "<class 'statsmodels.iolib.summary.Summary'>\n",
       "\"\"\"\n",
       "                            OLS Regression Results                            \n",
       "==============================================================================\n",
       "Dep. Variable:                    mpg   R-squared:                       0.753\n",
       "Model:                            OLS   Adj. R-squared:                  0.745\n",
       "Method:                 Least Squares   F-statistic:                     91.38\n",
       "Date:                Fri, 02 Aug 2019   Prob (F-statistic):           1.29e-10\n",
       "Time:                        18:22:41   Log-Likelihood:                -80.015\n",
       "No. Observations:                  32   AIC:                             164.0\n",
       "Df Residuals:                      30   BIC:                             167.0\n",
       "Df Model:                           1                                         \n",
       "Covariance Type:            nonrobust                                         \n",
       "==============================================================================\n",
       "                 coef    std err          t      P>|t|      [0.025      0.975]\n",
       "------------------------------------------------------------------------------\n",
       "const         37.2851      1.878     19.858      0.000      33.450      41.120\n",
       "wt            -5.3445      0.559     -9.559      0.000      -6.486      -4.203\n",
       "==============================================================================\n",
       "Omnibus:                        2.988   Durbin-Watson:                   1.252\n",
       "Prob(Omnibus):                  0.225   Jarque-Bera (JB):                2.399\n",
       "Skew:                           0.668   Prob(JB):                        0.301\n",
       "Kurtosis:                       2.877   Cond. No.                         12.7\n",
       "==============================================================================\n",
       "\n",
       "Warnings:\n",
       "[1] Standard Errors assume that the covariance matrix of the errors is correctly specified.\n",
       "\"\"\""
      ]
     },
     "execution_count": 21,
     "metadata": {},
     "output_type": "execute_result"
    }
   ],
   "source": [
    "## Print the statistics\n",
    "model.summary()"
   ]
  },
  {
   "cell_type": "markdown",
   "metadata": {},
   "source": [
    "### Interpretation:\n",
    "\n",
    "The coefficient of -5.3445 means that as the wt variable increases by 1 unit, the predicted value of mpg decreases by 5.3445.\n",
    "\n",
    "R squared give the percentage of variance our model explains. Our model explains 75.3% of variation\n",
    "\n",
    "Standard error is the standard deviation of the sampling distribution of a statistic such as mean.\n",
    "\n",
    "The t scores and p-values for the hypothesis test the wt has statistically significant p-value at 5% level of significance since p-value is less than 5%. \n",
    "There is a 95% confidence intervals for the wt.\n",
    "* We predict at 95% confidence that the value of wt is between -6.486 and -4.203\n",
    "\n",
    "### Regression equation is given below:\n",
    "mpg = 37.2851 - 5.3345 * wt\n",
    "\n",
    "This model explains 75.3% of variation\n",
    "When wt increases by 1 unit, the mpg decreases by -5.3445.\n"
   ]
  },
  {
   "cell_type": "markdown",
   "metadata": {},
   "source": [
    "### Predict the mpg of the car for wt = 3000 lbs"
   ]
  },
  {
   "cell_type": "code",
   "execution_count": 22,
   "metadata": {},
   "outputs": [
    {
     "name": "stdout",
     "output_type": "stream",
     "text": [
      "Predicted mpg of the car with weight  3(000 lbs) is 21.25\n"
     ]
    }
   ],
   "source": [
    "new_X = [ 1, 3.0] # Here we give 1 as the constant for the intercept of model and 3 (in '000s) as the weight \n",
    "predictions   = model.predict(new_X)\n",
    "print('Predicted mpg of the car with weight  %d(000 lbs) is %2.2f' % (3.0, np.round(predictions,3)))"
   ]
  }
 ],
 "metadata": {
  "kernelspec": {
   "display_name": "Python 3",
   "language": "python",
   "name": "python3"
  },
  "language_info": {
   "codemirror_mode": {
    "name": "ipython",
    "version": 3
   },
   "file_extension": ".py",
   "mimetype": "text/x-python",
   "name": "python",
   "nbconvert_exporter": "python",
   "pygments_lexer": "ipython3",
   "version": "3.7.3"
  }
 },
 "nbformat": 4,
 "nbformat_minor": 2
}
