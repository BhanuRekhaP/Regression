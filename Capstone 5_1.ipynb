{
 "cells": [
  {
   "cell_type": "code",
   "execution_count": 2,
   "metadata": {},
   "outputs": [],
   "source": [
    "import os\n",
    "os.chdir(\"C:/Users/BARANIDHARAN/Desktop/DSE - Capstone/new_data\")"
   ]
  },
  {
   "cell_type": "code",
   "execution_count": 3,
   "metadata": {},
   "outputs": [],
   "source": [
    "import numpy as np\n",
    "import pandas as pd"
   ]
  },
  {
   "cell_type": "code",
   "execution_count": 4,
   "metadata": {},
   "outputs": [
    {
     "name": "stderr",
     "output_type": "stream",
     "text": [
      "C:\\Users\\BARANIDHARAN\\Anaconda3\\lib\\site-packages\\IPython\\core\\interactiveshell.py:3049: DtypeWarning: Columns (19,49) have mixed types. Specify dtype option on import or set low_memory=False.\n",
      "  interactivity=interactivity, compiler=compiler, result=result)\n",
      "C:\\Users\\BARANIDHARAN\\Anaconda3\\lib\\site-packages\\IPython\\core\\interactiveshell.py:3049: DtypeWarning: Columns (19,59) have mixed types. Specify dtype option on import or set low_memory=False.\n",
      "  interactivity=interactivity, compiler=compiler, result=result)\n",
      "C:\\Users\\BARANIDHARAN\\Anaconda3\\lib\\site-packages\\IPython\\core\\interactiveshell.py:3049: DtypeWarning: Columns (19) have mixed types. Specify dtype option on import or set low_memory=False.\n",
      "  interactivity=interactivity, compiler=compiler, result=result)\n",
      "C:\\Users\\BARANIDHARAN\\Anaconda3\\lib\\site-packages\\IPython\\core\\interactiveshell.py:3049: DtypeWarning: Columns (118) have mixed types. Specify dtype option on import or set low_memory=False.\n",
      "  interactivity=interactivity, compiler=compiler, result=result)\n",
      "C:\\Users\\BARANIDHARAN\\Anaconda3\\lib\\site-packages\\IPython\\core\\interactiveshell.py:3049: DtypeWarning: Columns (129,130,131,134,135,136,139) have mixed types. Specify dtype option on import or set low_memory=False.\n",
      "  interactivity=interactivity, compiler=compiler, result=result)\n",
      "C:\\Users\\BARANIDHARAN\\Anaconda3\\lib\\site-packages\\IPython\\core\\interactiveshell.py:3049: DtypeWarning: Columns (129,130,131,134,135,136,139,144,145,146) have mixed types. Specify dtype option on import or set low_memory=False.\n",
      "  interactivity=interactivity, compiler=compiler, result=result)\n"
     ]
    }
   ],
   "source": [
    "df_2014 = pd.read_csv('LoanStats3c.csv')\n",
    "df_2015 = pd.read_csv('LoanStats3d.csv')\n",
    "df_2016_Q1 = pd.read_csv('LoanStats_securev1_2016Q1.csv')\n",
    "df_2016_Q2 = pd.read_csv('LoanStats_securev1_2016Q2.csv')\n",
    "df_2016_Q3 = pd.read_csv('LoanStats_securev1_2016Q3.csv')\n",
    "df_2016_Q4 = pd.read_csv('LoanStats_securev1_2016Q4.csv')\n",
    "df_2017_Q1 = pd.read_csv('LoanStats_securev1_2017Q1.csv')\n",
    "df_2017_Q2 = pd.read_csv('LoanStats_securev1_2017Q2.csv')\n",
    "df_2017_Q3 = pd.read_csv('LoanStats_securev1_2017Q3.csv')\n",
    "df_2017_Q4 = pd.read_csv('LoanStats_securev1_2017Q4.csv')\n",
    "df_2018_Q1 = pd.read_csv('LoanStats_securev1_2018Q1.csv')\n",
    "df_2018_Q2 = pd.read_csv('LoanStats_securev1_2018Q2.csv')\n",
    "df_2018_Q3 = pd.read_csv('LoanStats_securev1_2018Q3.csv')\n",
    "df_2018_Q4 = pd.read_csv('LoanStats_securev1_2018Q4.csv')\n",
    "df_2019_Q1 = pd.read_csv('LoanStats_securev1_2019Q1.csv')"
   ]
  },
  {
   "cell_type": "code",
   "execution_count": 5,
   "metadata": {},
   "outputs": [],
   "source": [
    "population = pd.concat([df_2014,\n",
    "df_2015,\n",
    "df_2016_Q1,\n",
    "df_2016_Q2,\n",
    "df_2016_Q3,\n",
    "df_2016_Q4,\n",
    "df_2017_Q1,\n",
    "df_2017_Q2,\n",
    "df_2017_Q3,\n",
    "df_2017_Q4,\n",
    "df_2018_Q1,\n",
    "df_2018_Q2,\n",
    "df_2018_Q3,\n",
    "df_2018_Q4,\n",
    "df_2019_Q1],axis=0,ignore_index=True)"
   ]
  },
  {
   "cell_type": "code",
   "execution_count": 6,
   "metadata": {},
   "outputs": [
    {
     "data": {
      "text/plain": [
       "(2145627, 150)"
      ]
     },
     "execution_count": 6,
     "metadata": {},
     "output_type": "execute_result"
    }
   ],
   "source": [
    "population.shape"
   ]
  },
  {
   "cell_type": "markdown",
   "metadata": {},
   "source": [
    "### Sample"
   ]
  },
  {
   "cell_type": "code",
   "execution_count": 7,
   "metadata": {},
   "outputs": [],
   "source": [
    "sample_of_2014     = df_2014.sample(frac=0.1,random_state=100,axis=0)\n",
    "sample_of_2015     = df_2015.sample(frac=0.1,random_state=100,axis=0)\n",
    "sample_of_2016_Q1  = df_2016_Q1.sample(frac=0.1,random_state=100,axis=0)\n",
    "sample_of_2016_Q2  = df_2016_Q2.sample(frac=0.1,random_state=100,axis=0)\n",
    "sample_of_2016_Q3  = df_2016_Q3.sample(frac=0.1,random_state=100,axis=0)\n",
    "sample_of_2016_Q4  = df_2016_Q4.sample(frac=0.1,random_state=100,axis=0)\n",
    "sample_of_2017_Q1  = df_2017_Q1.sample(frac=0.1,random_state=100,axis=0)\n",
    "sample_of_2017_Q2  = df_2017_Q2.sample(frac=0.1,random_state=100,axis=0)\n",
    "sample_of_2017_Q3  = df_2017_Q3.sample(frac=0.1,random_state=100,axis=0)\n",
    "sample_of_2017_Q4  = df_2017_Q4.sample(frac=0.1,random_state=100,axis=0)\n",
    "sample_of_2018_Q1  = df_2018_Q1.sample(frac=0.1,random_state=100,axis=0)\n",
    "sample_of_2018_Q2  = df_2018_Q2.sample(frac=0.1,random_state=100,axis=0)\n",
    "sample_of_2018_Q3  = df_2018_Q3.sample(frac=0.1,random_state=100,axis=0)\n",
    "sample_of_2018_Q4  = df_2018_Q4.sample(frac=0.1,random_state=100,axis=0)\n",
    "sample_of_2019_Q1  = df_2019_Q1.sample(frac=0.1,random_state=100,axis=0)"
   ]
  },
  {
   "cell_type": "code",
   "execution_count": 8,
   "metadata": {},
   "outputs": [],
   "source": [
    "sample = pd.concat([sample_of_2014,\n",
    "sample_of_2015,\n",
    "sample_of_2016_Q1,\n",
    "sample_of_2016_Q2,\n",
    "sample_of_2016_Q3,\n",
    "sample_of_2016_Q4,\n",
    "sample_of_2017_Q1,\n",
    "sample_of_2017_Q2,\n",
    "sample_of_2017_Q3,\n",
    "sample_of_2017_Q4,\n",
    "sample_of_2018_Q1,\n",
    "sample_of_2018_Q2,\n",
    "sample_of_2018_Q3,\n",
    "sample_of_2018_Q4,\n",
    "sample_of_2019_Q1],axis=0,ignore_index=True)"
   ]
  },
  {
   "cell_type": "code",
   "execution_count": 9,
   "metadata": {},
   "outputs": [
    {
     "data": {
      "text/plain": [
       "(214563, 150)"
      ]
     },
     "execution_count": 9,
     "metadata": {},
     "output_type": "execute_result"
    }
   ],
   "source": [
    "sample.shape"
   ]
  },
  {
   "cell_type": "markdown",
   "metadata": {},
   "source": [
    "### Is our sample a true good representation of the actucal population? "
   ]
  },
  {
   "cell_type": "markdown",
   "metadata": {},
   "source": [
    "> tested using Z test on below columns\n",
    "* loan_status,\n",
    "* loan_amnt, \n",
    "* funded_amnt, \n",
    "* int_rate  "
   ]
  },
  {
   "cell_type": "markdown",
   "metadata": {},
   "source": [
    "### Why Z test?"
   ]
  },
  {
   "cell_type": "markdown",
   "metadata": {},
   "source": [
    "> * Here sample size is above above 30 \n",
    "* we know about the population mean and standard deviation"
   ]
  },
  {
   "cell_type": "markdown",
   "metadata": {},
   "source": [
    "## 1. loan_amnt\n",
    "\n",
    ">* Null Hypothesis: Mean of sample = mean of population      \n",
    "* Alter Hypothesis : Mean of sample != mean of population     "
   ]
  },
  {
   "cell_type": "code",
   "execution_count": 10,
   "metadata": {},
   "outputs": [
    {
     "name": "stdout",
     "output_type": "stream",
     "text": [
      "Test of Means: \n",
      "Z stastistic :  1.3515555540253148\n",
      "Interval:-1.959963984540054  ,  1.959963984540054\n",
      "***************************************************************************\n",
      "p_value :  0.911741\n",
      "z Stastistic lies in acceptance region so fail to reject the null hypotheis which means for loan amount the population and sample the mean is equal\n"
     ]
    }
   ],
   "source": [
    "import  scipy.stats as stats\n",
    "alpha = 0.05 \n",
    "CI = 0.95\n",
    "\n",
    "n=len(sample)\n",
    "mu = population['loan_amnt'].mean()\n",
    "sigma = population['loan_amnt'].std()\n",
    "xbar = sample['loan_amnt'].mean()\n",
    "\n",
    "se=sigma/np.sqrt(n)\n",
    "z=(xbar -mu)/se\n",
    "print('Test of Means: ')\n",
    "print('Z stastistic : ',z)\n",
    "LCI, UCI = stats.norm.interval(0.95) \n",
    "print('Interval:',end='')\n",
    "print(LCI,' , ',UCI)\n",
    "\n",
    "print('*'*75)\n",
    "p_value = stats.norm.cdf(z)\n",
    "print('p_value :  {:2f}'.format(p_value))\n",
    "print('z Stastistic lies in acceptance region so fail to reject the null hypotheis which means for loan amount the population and sample the mean is equal')"
   ]
  },
  {
   "cell_type": "markdown",
   "metadata": {},
   "source": [
    "> Test of Variance\n",
    "* Ho:  σp = σs \n",
    "* Ha:  σp ≠ σs "
   ]
  },
  {
   "cell_type": "code",
   "execution_count": 11,
   "metadata": {},
   "outputs": [
    {
     "name": "stdout",
     "output_type": "stream",
     "text": [
      "Test of variance: \n",
      "\n",
      "Variance population=87640891.219, \n",
      "Variance sample=87518374.742\n",
      "\n",
      "fstatistic: 1.0013998943320583\n",
      "critical values 0.9937517553633731 1.0063039685765556\n",
      "Cant Reject H0 -- > p value is  0.6685517301387085\n",
      "Inference is variance is same in sample and population\n"
     ]
    }
   ],
   "source": [
    "a = population['loan_amnt']\n",
    "b = sample['loan_amnt']\n",
    "\n",
    "print('Test of variance: ')\n",
    "print('\\nVariance population={0:.3f}, \\nVariance sample={1:.3f}\\n'.format(np.var(a,ddof=1), np.var(b,ddof=1)))\n",
    "fstatistics = np.var(a, ddof=1)/np.var(b, ddof=1) # because we estimate mean from data\n",
    "fdistribution = stats.f(len(a)-1,len(b)-1) # build an F-distribution object\n",
    "\n",
    "p_value = stats.f.cdf(fstatistics, len(a)-1, len(b)-1)\n",
    "f_critical1 = fdistribution.ppf(0.025)\n",
    "f_critical2 = fdistribution.ppf(0.975)\n",
    "print('fstatistic:',fstatistics)\n",
    "print('critical values',f_critical1, f_critical2 )\n",
    "if (p_value<0.05):\n",
    "    print('Reject H0', p_value)\n",
    "else:\n",
    "    print('Cant Reject H0 -- > p value is ', p_value)\n",
    "    \n",
    "print('Inference is variance is same in sample and population')"
   ]
  },
  {
   "cell_type": "markdown",
   "metadata": {},
   "source": [
    "## 2. funded_amnt\n",
    "\n",
    "> * Null  Hypothesis: Mean of sample = mean of population      \n",
    "* Alter Hypothesis: Mean of sample != mean of population"
   ]
  },
  {
   "cell_type": "code",
   "execution_count": 12,
   "metadata": {},
   "outputs": [
    {
     "name": "stdout",
     "output_type": "stream",
     "text": [
      "Test of Means: \n",
      "Z stastistic :  1.352201136997006\n",
      "Interval:-1.959963984540054  ,  1.959963984540054\n",
      "p_value :  0.911845\n",
      "Here p value is greater than alpha(0.05), so  z Stastistic lies in the acceptance region so we fail to reject the null hypotheis which means for funded amount both population and sample is eqaul\n"
     ]
    }
   ],
   "source": [
    "alpha = 0.05 \n",
    "CI = 0.95\n",
    "\n",
    "n=len(sample)\n",
    "mu = population['funded_amnt'].mean()\n",
    "sigma = population['funded_amnt'].std()\n",
    "xbar = sample['funded_amnt'].mean()\n",
    "\n",
    "se=sigma/np.sqrt(n)\n",
    "z=(xbar -mu)/se\n",
    "print('Test of Means: ')\n",
    "print('Z stastistic : ',z)\n",
    "LCI, UCI = stats.norm.interval(0.95) \n",
    "print('Interval:',end='')\n",
    "print(LCI,' , ',UCI)\n",
    "\n",
    "p_value = stats.norm.cdf(z)\n",
    "print('p_value :  {:2f}'.format(p_value))\n",
    "print('Here p value is greater than alpha(0.05), so  z Stastistic lies in the acceptance region so we fail to reject the null hypotheis which means for funded amount both population and sample is eqaul')"
   ]
  },
  {
   "cell_type": "markdown",
   "metadata": {},
   "source": [
    "> Test of Variance\n",
    "* Ho:  σp = σs \n",
    "* Ha:  σp ≠ σs "
   ]
  },
  {
   "cell_type": "code",
   "execution_count": 13,
   "metadata": {},
   "outputs": [
    {
     "name": "stdout",
     "output_type": "stream",
     "text": [
      "Test of variance: \n",
      "\n",
      "Variance population=87640905.819, \n",
      "Variance sample=87518374.742\n",
      "\n",
      "fstatistic: 1.0014000611560652\n",
      "critical values 0.9937517553633731 1.0063039685765556\n",
      "Cant Reject H0 -- > p value is  0.6685705966603483\n",
      "Inference is variance is same in sample and population\n"
     ]
    }
   ],
   "source": [
    "a = population['funded_amnt']\n",
    "b = sample['funded_amnt']\n",
    "\n",
    "print('Test of variance: ')\n",
    "print('\\nVariance population={0:.3f}, \\nVariance sample={1:.3f}\\n'.format(np.var(a, ddof=1), np.var(b, ddof=1)))\n",
    "fstatistics = np.var(a, ddof=1)/np.var(b, ddof=1) # because we estimate mean from data\n",
    "fdistribution = stats.f(len(a)-1,len(b)-1) # build an F-distribution object\n",
    "\n",
    "p_value = stats.f.cdf(fstatistics, len(a)-1, len(b)-1)\n",
    "f_critical1 = fdistribution.ppf(0.025)\n",
    "f_critical2 = fdistribution.ppf(0.975)\n",
    "print('fstatistic:',fstatistics)\n",
    "print('critical values',f_critical1, f_critical2 )\n",
    "if (p_value<0.05):\n",
    "    print('Reject H0', p_value)\n",
    "else:\n",
    "    print('Cant Reject H0 -- > p value is ', p_value)\n",
    "    \n",
    "print('Inference is variance is same in sample and population')"
   ]
  },
  {
   "cell_type": "markdown",
   "metadata": {},
   "source": [
    "## 3. int_rate\n",
    "\n",
    ">* Null Hypotheis: Mean of sample = mean of population      \n",
    "* Alter Hypotheis: Mean of sample != mean of population "
   ]
  },
  {
   "cell_type": "code",
   "execution_count": 14,
   "metadata": {},
   "outputs": [],
   "source": [
    "population['int_rate']= population['int_rate'].str.rstrip('%').astype('float')\n",
    "sample['int_rate']= sample['int_rate'].str.rstrip('%').astype('float')"
   ]
  },
  {
   "cell_type": "code",
   "execution_count": 15,
   "metadata": {},
   "outputs": [
    {
     "name": "stdout",
     "output_type": "stream",
     "text": [
      "Test of Means: \n",
      "Z stastistic :  0.9938797027356655\n",
      "Interval:-1.959963984540054  ,  1.959963984540054\n",
      "p_value :  0.839859\n",
      "Here p value is greater than alpha(0.05), so  z Stastistic lies in the acceptance region so we fail to reject the null hypotheis which means for intrest rateboth population and sample is eqaul\n"
     ]
    }
   ],
   "source": [
    "n=len(sample)\n",
    "mu = population['int_rate'].mean()\n",
    "sigma = population['int_rate'].std()\n",
    "xbar = sample['int_rate'].mean()\n",
    "\n",
    "se=sigma/np.sqrt(n)\n",
    "z=(xbar -mu)/se\n",
    "print('Test of Means: ')\n",
    "print('Z stastistic : ',z)\n",
    "LCI, UCI = stats.norm.interval(0.95) \n",
    "print('Interval:',end='')\n",
    "print(LCI,' , ',UCI)\n",
    "\n",
    "p_value = stats.norm.cdf(z)\n",
    "print('p_value :  {:2f}'.format(p_value))\n",
    "print('Here p value is greater than alpha(0.05), so  z Stastistic lies in the acceptance region so we fail to reject the null hypotheis which means for intrest rateboth population and sample is eqaul')"
   ]
  },
  {
   "cell_type": "markdown",
   "metadata": {},
   "source": [
    "> Test of Variance\n",
    "* Ho:  σp = σs \n",
    "* Ha:  σp ≠ σs "
   ]
  },
  {
   "cell_type": "code",
   "execution_count": 16,
   "metadata": {},
   "outputs": [
    {
     "name": "stdout",
     "output_type": "stream",
     "text": [
      "Test of variance: \n",
      "\n",
      "Variance population=23.730, \n",
      "Variance sample=23.746\n",
      "\n",
      "fstatistic: 0.9993153260876851\n",
      "critical values 0.9937517553633731 1.0063039685765556\n",
      "Cant Reject H0 -- > p value is  0.41496680848369055\n",
      "Inference is variance is same in sample and population\n"
     ]
    }
   ],
   "source": [
    "a = population['int_rate']\n",
    "b = sample['int_rate']\n",
    "\n",
    "print('Test of variance: ')\n",
    "print('\\nVariance population={0:.3f}, \\nVariance sample={1:.3f}\\n'.format(np.var(a, ddof=1), np.var(b, ddof=1)))\n",
    "fstatistics = np.var(a, ddof=1)/np.var(b, ddof=1) # because we estimate mean from data\n",
    "fdistribution = stats.f(len(a)-1,len(b)-1) # build an F-distribution object\n",
    "\n",
    "p_value = stats.f.cdf(fstatistics, len(a)-1, len(b)-1)\n",
    "f_critical1 = fdistribution.ppf(0.025)\n",
    "f_critical2 = fdistribution.ppf(0.975)\n",
    "print('fstatistic:',fstatistics)\n",
    "print('critical values',f_critical1, f_critical2 )\n",
    "if (p_value<0.05):\n",
    "    print('Reject H0', p_value)\n",
    "else:\n",
    "    print('Cant Reject H0 -- > p value is ', p_value)\n",
    "    \n",
    "print('Inference is variance is same in sample and population')"
   ]
  },
  {
   "cell_type": "markdown",
   "metadata": {},
   "source": [
    "### Loan_status - Test of proportion"
   ]
  },
  {
   "cell_type": "code",
   "execution_count": 17,
   "metadata": {},
   "outputs": [
    {
     "name": "stdout",
     "output_type": "stream",
     "text": [
      "-1.959963984540054 1.959963984540054\n",
      " z-stat = -0.0016947819661313397 \n",
      " p-value = 0.9986477602826331\n",
      "Since the P-value is not less than the significance level (0.05), we can accept the null hypothesis.\n"
     ]
    }
   ],
   "source": [
    "x1 = population[population['loan_status']=='Fully Paid']['loan_status'].value_counts()[0]/len(population)\n",
    "x2 = sample[sample['loan_status']=='Fully Paid']['loan_status'].value_counts()[0]/len(sample)\n",
    "# implementation ztest_proportion_two_classes\n",
    "def ztest_proportion_two_classes(x1, n1, x2, n2, one_sided=False):\n",
    "    p1 = x1/n1\n",
    "    p2 = x2/n2    \n",
    "\n",
    "    p = (x1*n1+x2*n2)/(n1+n2)    #Pooled sample proportion\n",
    "    se = p*(1-p)*(1/n1+1/n2)\n",
    "    se = np.sqrt(se)\n",
    "    \n",
    "    z = (p1-p2)/se   #Test statistic\n",
    "    \n",
    "    LCI, UCI = stats.norm.interval(0.95) \n",
    "    print(LCI,UCI)\n",
    "    \n",
    "    p = 1-stats.norm.cdf(abs(z))\n",
    "    p *= 2-one_sided # if not one_sided: p *= 2\n",
    "    return z, p\n",
    "\n",
    "z,p = ztest_proportion_two_classes(x1, len(population), x1, len(sample), one_sided=False)\n",
    "print(' z-stat = {z} \\n p-value = {p}'.format(z=z,p=p))\n",
    "\n",
    "print('Since the P-value is not less than the significance level (0.05), we can accept the null hypothesis.')"
   ]
  },
  {
   "cell_type": "code",
   "execution_count": 18,
   "metadata": {},
   "outputs": [],
   "source": [
    "#sample.to_csv('new_sample_fico.csv')"
   ]
  },
  {
   "cell_type": "code",
   "execution_count": null,
   "metadata": {},
   "outputs": [],
   "source": []
  }
 ],
 "metadata": {
  "kernelspec": {
   "display_name": "Python 3",
   "language": "python",
   "name": "python3"
  },
  "language_info": {
   "codemirror_mode": {
    "name": "ipython",
    "version": 3
   },
   "file_extension": ".py",
   "mimetype": "text/x-python",
   "name": "python",
   "nbconvert_exporter": "python",
   "pygments_lexer": "ipython3",
   "version": "3.7.3"
  }
 },
 "nbformat": 4,
 "nbformat_minor": 2
}
